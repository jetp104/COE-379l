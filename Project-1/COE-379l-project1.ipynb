{
 "cells": [
  {
   "cell_type": "code",
   "execution_count": 25,
   "id": "5d35992a-f0c4-40c2-9ef8-9362424591de",
   "metadata": {},
   "outputs": [],
   "source": [
    "import pandas as pd \n",
    "import numpy as np"
   ]
  },
  {
   "cell_type": "code",
   "execution_count": 26,
   "id": "5fdc19ed-936c-4e0d-8f1f-80065a935768",
   "metadata": {},
   "outputs": [],
   "source": [
    "cancer = pd.read_csv('project1.csv')"
   ]
  },
  {
   "cell_type": "code",
   "execution_count": 27,
   "id": "e48ea163-d2cf-46c1-8b14-1a3310661ae1",
   "metadata": {},
   "outputs": [
    {
     "data": {
      "text/plain": [
       "(386, 10)"
      ]
     },
     "execution_count": 27,
     "metadata": {},
     "output_type": "execute_result"
    }
   ],
   "source": [
    "cancer.shape"
   ]
  },
  {
   "cell_type": "code",
   "execution_count": 28,
   "id": "554ebcb2-c8b9-45c1-a606-961db2739540",
   "metadata": {},
   "outputs": [
    {
     "data": {
      "text/plain": [
       "3860"
      ]
     },
     "execution_count": 28,
     "metadata": {},
     "output_type": "execute_result"
    }
   ],
   "source": [
    "cancer.size"
   ]
  },
  {
   "cell_type": "code",
   "execution_count": 29,
   "id": "009f61c2-268c-43b5-8f0a-86f0db6c76d9",
   "metadata": {},
   "outputs": [
    {
     "name": "stdout",
     "output_type": "stream",
     "text": [
      "<class 'pandas.core.frame.DataFrame'>\n",
      "RangeIndex: 386 entries, 0 to 385\n",
      "Data columns (total 10 columns):\n",
      " #   Column       Non-Null Count  Dtype \n",
      "---  ------       --------------  ----- \n",
      " 0   class        386 non-null    object\n",
      " 1   age          386 non-null    object\n",
      " 2   menopause    386 non-null    object\n",
      " 3   tumor-size   385 non-null    object\n",
      " 4   inv-nodes    385 non-null    object\n",
      " 5   node-caps    386 non-null    object\n",
      " 6   deg-malig    386 non-null    int64 \n",
      " 7   breast       386 non-null    object\n",
      " 8   breast-quad  386 non-null    object\n",
      " 9   irradiat     386 non-null    object\n",
      "dtypes: int64(1), object(9)\n",
      "memory usage: 30.3+ KB\n"
     ]
    }
   ],
   "source": [
    "cancer.info()"
   ]
  },
  {
   "cell_type": "code",
   "execution_count": 30,
   "id": "66156aa3-3244-4d36-abd0-91cdaf511178",
   "metadata": {},
   "outputs": [
    {
     "data": {
      "text/html": [
       "<div>\n",
       "<style scoped>\n",
       "    .dataframe tbody tr th:only-of-type {\n",
       "        vertical-align: middle;\n",
       "    }\n",
       "\n",
       "    .dataframe tbody tr th {\n",
       "        vertical-align: top;\n",
       "    }\n",
       "\n",
       "    .dataframe thead th {\n",
       "        text-align: right;\n",
       "    }\n",
       "</style>\n",
       "<table border=\"1\" class=\"dataframe\">\n",
       "  <thead>\n",
       "    <tr style=\"text-align: right;\">\n",
       "      <th></th>\n",
       "      <th>class</th>\n",
       "      <th>age</th>\n",
       "      <th>menopause</th>\n",
       "      <th>tumor-size</th>\n",
       "      <th>inv-nodes</th>\n",
       "      <th>node-caps</th>\n",
       "      <th>deg-malig</th>\n",
       "      <th>breast</th>\n",
       "      <th>breast-quad</th>\n",
       "      <th>irradiat</th>\n",
       "    </tr>\n",
       "  </thead>\n",
       "  <tbody>\n",
       "    <tr>\n",
       "      <th>0</th>\n",
       "      <td>recurrence-events</td>\n",
       "      <td>30-39</td>\n",
       "      <td>premeno</td>\n",
       "      <td>30-34</td>\n",
       "      <td>0-2</td>\n",
       "      <td>no</td>\n",
       "      <td>3</td>\n",
       "      <td>left</td>\n",
       "      <td>left_low</td>\n",
       "      <td>no</td>\n",
       "    </tr>\n",
       "    <tr>\n",
       "      <th>1</th>\n",
       "      <td>no-recurrence-events</td>\n",
       "      <td>40-49</td>\n",
       "      <td>premeno</td>\n",
       "      <td>20-24</td>\n",
       "      <td>0-2</td>\n",
       "      <td>no</td>\n",
       "      <td>2</td>\n",
       "      <td>right</td>\n",
       "      <td>right_up</td>\n",
       "      <td>no</td>\n",
       "    </tr>\n",
       "    <tr>\n",
       "      <th>2</th>\n",
       "      <td>recurrence-events</td>\n",
       "      <td>40-49</td>\n",
       "      <td>premeno</td>\n",
       "      <td>20-24</td>\n",
       "      <td>0-2</td>\n",
       "      <td>no</td>\n",
       "      <td>2</td>\n",
       "      <td>left</td>\n",
       "      <td>left_low</td>\n",
       "      <td>no</td>\n",
       "    </tr>\n",
       "    <tr>\n",
       "      <th>3</th>\n",
       "      <td>no-recurrence-events</td>\n",
       "      <td>60-69</td>\n",
       "      <td>ge40</td>\n",
       "      <td>15-19</td>\n",
       "      <td>0-2</td>\n",
       "      <td>no</td>\n",
       "      <td>2</td>\n",
       "      <td>right</td>\n",
       "      <td>left_up</td>\n",
       "      <td>no</td>\n",
       "    </tr>\n",
       "    <tr>\n",
       "      <th>4</th>\n",
       "      <td>no-recurrence-events</td>\n",
       "      <td>40-49</td>\n",
       "      <td>premeno</td>\n",
       "      <td>0-4</td>\n",
       "      <td>0-2</td>\n",
       "      <td>no</td>\n",
       "      <td>2</td>\n",
       "      <td>right</td>\n",
       "      <td>right_low</td>\n",
       "      <td>no</td>\n",
       "    </tr>\n",
       "  </tbody>\n",
       "</table>\n",
       "</div>"
      ],
      "text/plain": [
       "                  class    age menopause tumor-size inv-nodes node-caps  \\\n",
       "0     recurrence-events  30-39   premeno      30-34       0-2        no   \n",
       "1  no-recurrence-events  40-49   premeno      20-24       0-2        no   \n",
       "2     recurrence-events  40-49   premeno      20-24       0-2        no   \n",
       "3  no-recurrence-events  60-69      ge40      15-19       0-2        no   \n",
       "4  no-recurrence-events  40-49   premeno        0-4       0-2        no   \n",
       "\n",
       "   deg-malig breast breast-quad irradiat  \n",
       "0          3   left    left_low       no  \n",
       "1          2  right    right_up       no  \n",
       "2          2   left    left_low       no  \n",
       "3          2  right     left_up       no  \n",
       "4          2  right   right_low       no  "
      ]
     },
     "execution_count": 30,
     "metadata": {},
     "output_type": "execute_result"
    }
   ],
   "source": [
    "cancer.head()"
   ]
  },
  {
   "cell_type": "code",
   "execution_count": 31,
   "id": "0a1ff7da-d014-4457-b538-c7416a35997f",
   "metadata": {},
   "outputs": [],
   "source": [
    "# All the features need to be changed to categorical except deg-malig which we can leave as an int type"
   ]
  },
  {
   "cell_type": "code",
   "execution_count": 32,
   "id": "a912f5fd-05dd-4eb6-ad71-f2c9575bc2dc",
   "metadata": {},
   "outputs": [
    {
     "name": "stdout",
     "output_type": "stream",
     "text": [
      "Number of duplicate rows: 11\n"
     ]
    }
   ],
   "source": [
    "duplicate_rows = cancer.duplicated().sum()\n",
    "print(f\"Number of duplicate rows: {duplicate_rows}\")\n",
    "cancer = cancer.drop_duplicates()"
   ]
  },
  {
   "cell_type": "code",
   "execution_count": 33,
   "id": "0cd20a60-e968-418a-8dcd-ac921cb619d6",
   "metadata": {},
   "outputs": [
    {
     "data": {
      "text/plain": [
       "0"
      ]
     },
     "execution_count": 33,
     "metadata": {},
     "output_type": "execute_result"
    }
   ],
   "source": [
    "cancer.duplicated().sum()"
   ]
  },
  {
   "cell_type": "code",
   "execution_count": 34,
   "id": "ee75ba09-91fe-4f8d-bd3d-5bcbb1af12df",
   "metadata": {},
   "outputs": [
    {
     "name": "stdout",
     "output_type": "stream",
     "text": [
      "Missing values per column:\n",
      " class          0\n",
      "age            0\n",
      "menopause      0\n",
      "tumor-size     1\n",
      "inv-nodes      1\n",
      "node-caps      0\n",
      "deg-malig      0\n",
      "breast         0\n",
      "breast-quad    0\n",
      "irradiat       0\n",
      "dtype: int64\n"
     ]
    }
   ],
   "source": [
    "missing_values = cancer.isnull().sum()\n",
    "print(\"Missing values per column:\\n\", missing_values)"
   ]
  },
  {
   "cell_type": "code",
   "execution_count": 35,
   "id": "caf59770-80f7-4380-a52b-06b02049a4b7",
   "metadata": {},
   "outputs": [
    {
     "name": "stderr",
     "output_type": "stream",
     "text": [
      "C:\\Users\\jeet\\AppData\\Local\\Temp\\ipykernel_13084\\3444816114.py:1: FutureWarning: A value is trying to be set on a copy of a DataFrame or Series through chained assignment using an inplace method.\n",
      "The behavior will change in pandas 3.0. This inplace method will never work because the intermediate object on which we are setting values always behaves as a copy.\n",
      "\n",
      "For example, when doing 'df[col].method(value, inplace=True)', try using 'df.method({col: value}, inplace=True)' or df[col] = df[col].method(value) instead, to perform the operation inplace on the original object.\n",
      "\n",
      "\n",
      "  cancer['tumor-size'].fillna(cancer['tumor-size'].mode()[0], inplace=True)\n",
      "C:\\Users\\jeet\\AppData\\Local\\Temp\\ipykernel_13084\\3444816114.py:2: FutureWarning: A value is trying to be set on a copy of a DataFrame or Series through chained assignment using an inplace method.\n",
      "The behavior will change in pandas 3.0. This inplace method will never work because the intermediate object on which we are setting values always behaves as a copy.\n",
      "\n",
      "For example, when doing 'df[col].method(value, inplace=True)', try using 'df.method({col: value}, inplace=True)' or df[col] = df[col].method(value) instead, to perform the operation inplace on the original object.\n",
      "\n",
      "\n",
      "  cancer['inv-nodes'].fillna(cancer['inv-nodes'].mode()[0], inplace=True)\n"
     ]
    }
   ],
   "source": [
    "cancer['tumor-size'].fillna(cancer['tumor-size'].mode()[0], inplace=True)\n",
    "cancer['inv-nodes'].fillna(cancer['inv-nodes'].mode()[0], inplace=True)"
   ]
  },
  {
   "cell_type": "code",
   "execution_count": 36,
   "id": "59296eb6-d400-415b-b45d-281f3cea214e",
   "metadata": {},
   "outputs": [
    {
     "name": "stdout",
     "output_type": "stream",
     "text": [
      "Missing values per column:\n",
      " class          0\n",
      "age            0\n",
      "menopause      0\n",
      "tumor-size     0\n",
      "inv-nodes      0\n",
      "node-caps      0\n",
      "deg-malig      0\n",
      "breast         0\n",
      "breast-quad    0\n",
      "irradiat       0\n",
      "dtype: int64\n"
     ]
    }
   ],
   "source": [
    "missing_values = cancer.isnull().sum()\n",
    "print(\"Missing values per column:\\n\", missing_values)"
   ]
  },
  {
   "cell_type": "code",
   "execution_count": 37,
   "id": "6f73b15a-1edd-4812-873d-31176cd68bdc",
   "metadata": {},
   "outputs": [
    {
     "data": {
      "text/html": [
       "<div>\n",
       "<style scoped>\n",
       "    .dataframe tbody tr th:only-of-type {\n",
       "        vertical-align: middle;\n",
       "    }\n",
       "\n",
       "    .dataframe tbody tr th {\n",
       "        vertical-align: top;\n",
       "    }\n",
       "\n",
       "    .dataframe thead th {\n",
       "        text-align: right;\n",
       "    }\n",
       "</style>\n",
       "<table border=\"1\" class=\"dataframe\">\n",
       "  <thead>\n",
       "    <tr style=\"text-align: right;\">\n",
       "      <th></th>\n",
       "      <th>class</th>\n",
       "      <th>age</th>\n",
       "      <th>menopause</th>\n",
       "      <th>tumor-size</th>\n",
       "      <th>inv-nodes</th>\n",
       "      <th>node-caps</th>\n",
       "      <th>deg-malig</th>\n",
       "      <th>breast</th>\n",
       "      <th>breast-quad</th>\n",
       "      <th>irradiat</th>\n",
       "    </tr>\n",
       "  </thead>\n",
       "  <tbody>\n",
       "    <tr>\n",
       "      <th>0</th>\n",
       "      <td>recurrence-events</td>\n",
       "      <td>30-39</td>\n",
       "      <td>premeno</td>\n",
       "      <td>30-34</td>\n",
       "      <td>0-2</td>\n",
       "      <td>no</td>\n",
       "      <td>3</td>\n",
       "      <td>left</td>\n",
       "      <td>left_low</td>\n",
       "      <td>no</td>\n",
       "    </tr>\n",
       "    <tr>\n",
       "      <th>1</th>\n",
       "      <td>no-recurrence-events</td>\n",
       "      <td>40-49</td>\n",
       "      <td>premeno</td>\n",
       "      <td>20-24</td>\n",
       "      <td>0-2</td>\n",
       "      <td>no</td>\n",
       "      <td>2</td>\n",
       "      <td>right</td>\n",
       "      <td>right_up</td>\n",
       "      <td>no</td>\n",
       "    </tr>\n",
       "    <tr>\n",
       "      <th>2</th>\n",
       "      <td>recurrence-events</td>\n",
       "      <td>40-49</td>\n",
       "      <td>premeno</td>\n",
       "      <td>20-24</td>\n",
       "      <td>0-2</td>\n",
       "      <td>no</td>\n",
       "      <td>2</td>\n",
       "      <td>left</td>\n",
       "      <td>left_low</td>\n",
       "      <td>no</td>\n",
       "    </tr>\n",
       "    <tr>\n",
       "      <th>3</th>\n",
       "      <td>no-recurrence-events</td>\n",
       "      <td>60-69</td>\n",
       "      <td>ge40</td>\n",
       "      <td>15-19</td>\n",
       "      <td>0-2</td>\n",
       "      <td>no</td>\n",
       "      <td>2</td>\n",
       "      <td>right</td>\n",
       "      <td>left_up</td>\n",
       "      <td>no</td>\n",
       "    </tr>\n",
       "    <tr>\n",
       "      <th>4</th>\n",
       "      <td>no-recurrence-events</td>\n",
       "      <td>40-49</td>\n",
       "      <td>premeno</td>\n",
       "      <td>0-4</td>\n",
       "      <td>0-2</td>\n",
       "      <td>no</td>\n",
       "      <td>2</td>\n",
       "      <td>right</td>\n",
       "      <td>right_low</td>\n",
       "      <td>no</td>\n",
       "    </tr>\n",
       "  </tbody>\n",
       "</table>\n",
       "</div>"
      ],
      "text/plain": [
       "                  class    age menopause tumor-size inv-nodes node-caps  \\\n",
       "0     recurrence-events  30-39   premeno      30-34       0-2        no   \n",
       "1  no-recurrence-events  40-49   premeno      20-24       0-2        no   \n",
       "2     recurrence-events  40-49   premeno      20-24       0-2        no   \n",
       "3  no-recurrence-events  60-69      ge40      15-19       0-2        no   \n",
       "4  no-recurrence-events  40-49   premeno        0-4       0-2        no   \n",
       "\n",
       "   deg-malig breast breast-quad irradiat  \n",
       "0          3   left    left_low       no  \n",
       "1          2  right    right_up       no  \n",
       "2          2   left    left_low       no  \n",
       "3          2  right     left_up       no  \n",
       "4          2  right   right_low       no  "
      ]
     },
     "execution_count": 37,
     "metadata": {},
     "output_type": "execute_result"
    }
   ],
   "source": [
    "cancer.head()"
   ]
  },
  {
   "cell_type": "code",
   "execution_count": 38,
   "id": "3317cbda-3c21-43bd-9f7b-624538f3667b",
   "metadata": {},
   "outputs": [
    {
     "name": "stdout",
     "output_type": "stream",
     "text": [
      "<class 'pandas.core.frame.DataFrame'>\n",
      "Index: 375 entries, 0 to 385\n",
      "Data columns (total 10 columns):\n",
      " #   Column       Non-Null Count  Dtype \n",
      "---  ------       --------------  ----- \n",
      " 0   class        375 non-null    object\n",
      " 1   age          375 non-null    object\n",
      " 2   menopause    375 non-null    object\n",
      " 3   tumor-size   375 non-null    object\n",
      " 4   inv-nodes    375 non-null    object\n",
      " 5   node-caps    375 non-null    object\n",
      " 6   deg-malig    375 non-null    int64 \n",
      " 7   breast       375 non-null    object\n",
      " 8   breast-quad  375 non-null    object\n",
      " 9   irradiat     375 non-null    object\n",
      "dtypes: int64(1), object(9)\n",
      "memory usage: 32.2+ KB\n"
     ]
    }
   ],
   "source": [
    "cancer.info()"
   ]
  },
  {
   "cell_type": "code",
   "execution_count": 39,
   "id": "12490e3c-1a8b-48fe-b87e-5585961d93d2",
   "metadata": {},
   "outputs": [
    {
     "name": "stdout",
     "output_type": "stream",
     "text": [
      "Unique values in 'class': ['recurrence-events' 'no-recurrence-events']\n",
      "Unique values in 'age': ['30-39' '40-49' '60-69' '50-59' '70-79' '20-29']\n",
      "Unique values in 'menopause': ['premeno' 'ge40' 'lt40']\n",
      "Unique values in 'tumor-size': ['30-34' '20-24' '15-19' '0-4' '25-29' '50-54' '10-14' '40-44' '35-39'\n",
      " '5-9' '45-49']\n",
      "Unique values in 'inv-nodes': ['0-2' '6-8' '9-11' '3-5' '15-17' '12-14' '24-26']\n",
      "Unique values in 'node-caps': ['no' '*' 'yes' '?']\n",
      "Unique values in 'deg-malig': [3 2 1]\n",
      "Unique values in 'breast': ['left' 'right']\n",
      "Unique values in 'breast-quad': ['left_low' 'right_up' 'left_up' 'right_low' '?' 'central' '*']\n",
      "Unique values in 'irradiat': ['no' 'yes']\n"
     ]
    }
   ],
   "source": [
    "for column in cancer.columns:\n",
    "    unique_values = cancer[column].unique()\n",
    "    print(f\"Unique values in '{column}': {unique_values}\")"
   ]
  },
  {
   "cell_type": "code",
   "execution_count": 40,
   "id": "3f66e4d3-203c-4090-b03d-7a04639e548c",
   "metadata": {},
   "outputs": [
    {
     "name": "stdout",
     "output_type": "stream",
     "text": [
      "Unique values in 'node-caps': ['no' 'yes']\n",
      "Unique values in 'breast-quad': ['left_low' 'right_up' 'left_up' 'right_low' 'central']\n"
     ]
    }
   ],
   "source": [
    "cancer = cancer[\n",
    "    ~cancer['node-caps'].isin(['?', '*']) & \n",
    "    ~cancer['breast-quad'].isin(['?', '*'])\n",
    "]\n",
    "\n",
    "print(\"Unique values in 'node-caps':\", cancer['node-caps'].unique())\n",
    "print(\"Unique values in 'breast-quad':\", cancer['breast-quad'].unique())"
   ]
  },
  {
   "cell_type": "code",
   "execution_count": 41,
   "id": "45794f5b-083a-4083-889e-8c9be5b68c11",
   "metadata": {},
   "outputs": [
    {
     "name": "stdout",
     "output_type": "stream",
     "text": [
      "Unique values in 'class': ['recurrence-events' 'no-recurrence-events']\n",
      "Unique values in 'age': ['30-39' '40-49' '60-69' '50-59' '70-79']\n",
      "Unique values in 'menopause': ['premeno' 'ge40' 'lt40']\n",
      "Unique values in 'tumor-size': ['30-34' '20-24' '15-19' '0-4' '50-54' '25-29' '10-14' '40-44' '35-39'\n",
      " '5-9' '45-49']\n",
      "Unique values in 'inv-nodes': ['0-2' '6-8' '9-11' '3-5' '15-17' '12-14' '24-26']\n",
      "Unique values in 'node-caps': ['no' 'yes']\n",
      "Unique values in 'deg-malig': [3 2 1]\n",
      "Unique values in 'breast': ['left' 'right']\n",
      "Unique values in 'breast-quad': ['left_low' 'right_up' 'left_up' 'right_low' 'central']\n",
      "Unique values in 'irradiat': ['no' 'yes']\n"
     ]
    }
   ],
   "source": [
    "for column in cancer.columns:\n",
    "    unique_values = cancer[column].unique()\n",
    "    print(f\"Unique values in '{column}': {unique_values}\")"
   ]
  },
  {
   "cell_type": "code",
   "execution_count": 42,
   "id": "ac6dd6f8-b8f5-456c-b3c3-a1d1fe7b9220",
   "metadata": {},
   "outputs": [
    {
     "name": "stdout",
     "output_type": "stream",
     "text": [
      "<class 'pandas.core.frame.DataFrame'>\n",
      "Index: 358 entries, 0 to 385\n",
      "Data columns (total 10 columns):\n",
      " #   Column       Non-Null Count  Dtype \n",
      "---  ------       --------------  ----- \n",
      " 0   class        358 non-null    object\n",
      " 1   age          358 non-null    object\n",
      " 2   menopause    358 non-null    object\n",
      " 3   tumor-size   358 non-null    object\n",
      " 4   inv-nodes    358 non-null    object\n",
      " 5   node-caps    358 non-null    object\n",
      " 6   deg-malig    358 non-null    int64 \n",
      " 7   breast       358 non-null    object\n",
      " 8   breast-quad  358 non-null    object\n",
      " 9   irradiat     358 non-null    object\n",
      "dtypes: int64(1), object(9)\n",
      "memory usage: 30.8+ KB\n"
     ]
    }
   ],
   "source": [
    "cancer.info()"
   ]
  },
  {
   "cell_type": "code",
   "execution_count": 43,
   "id": "71a62d8b-ce34-4c02-a1c3-2c9abceb0e27",
   "metadata": {},
   "outputs": [
    {
     "name": "stdout",
     "output_type": "stream",
     "text": [
      "class          category\n",
      "age            category\n",
      "menopause      category\n",
      "tumor-size     category\n",
      "inv-nodes      category\n",
      "node-caps      category\n",
      "deg-malig         int64\n",
      "breast         category\n",
      "breast-quad    category\n",
      "irradiat       category\n",
      "dtype: object\n"
     ]
    }
   ],
   "source": [
    "for column in cancer.columns:\n",
    "    if column != 'deg-malig':  # Skip 'deg-malig'\n",
    "        cancer[column] = cancer[column].astype('category')\n",
    "\n",
    "print(cancer.dtypes)"
   ]
  },
  {
   "cell_type": "code",
   "execution_count": 44,
   "id": "85cc2405-9bbf-49fd-ade1-c6cdaf98a067",
   "metadata": {},
   "outputs": [
    {
     "data": {
      "image/png": "[encoded data removed]",
      "text/plain": [
       "<Figure size 640x480 with 1 Axes>"
      ]
     },
     "metadata": {},
     "output_type": "display_data"
    }
   ],
   "source": [
    "import matplotlib.pyplot as plt\n",
    "\n",
    "age_counts = cancer['age'].value_counts().sort_index()\n",
    "\n",
    "age_counts.plot(kind='bar', color='skyblue', edgecolor='black')\n",
    "\n",
    "plt.xlabel('Age Groups')\n",
    "plt.ylabel('Frequency')\n",
    "plt.title('Histogram of Age Groups in Cancer Dataset')\n",
    "\n",
    "plt.show()"
   ]
  },
  {
   "cell_type": "code",
   "execution_count": 45,
   "id": "560e5739-dd9a-420c-8cbd-cd95951b1739",
   "metadata": {},
   "outputs": [],
   "source": [
    "#We can see that most of the people within this breast cancer dataset are between 40-50 years of age with the lower bound being 30 years and the\n",
    "#upper bound being 79 years old."
   ]
  },
  {
   "cell_type": "code",
   "execution_count": 46,
   "id": "4f131c9e-b908-4a66-9804-ae9fcb8ca0d3",
   "metadata": {},
   "outputs": [
    {
     "name": "stderr",
     "output_type": "stream",
     "text": [
      "C:\\Users\\jeet\\AppData\\Local\\Temp\\ipykernel_13084\\572476902.py:7: FutureWarning: \n",
      "\n",
      "Passing `palette` without assigning `hue` is deprecated and will be removed in v0.14.0. Assign the `x` variable to `hue` and set `legend=False` for the same effect.\n",
      "\n",
      "  sns.countplot(x='menopause', data=cancer, palette='coolwarm', edgecolor='black')\n"
     ]
    },
    {
     "data": {
      "image/png": "[encoded data removed]",
      "text/plain": [
       "<Figure size 640x480 with 1 Axes>"
      ]
     },
     "metadata": {},
     "output_type": "display_data"
    }
   ],
   "source": [
    "import seaborn as sns\n",
    "\n",
    "sns.set(style=\"whitegrid\")\n",
    "\n",
    "sns.countplot(x='menopause', data=cancer, palette='coolwarm', edgecolor='black')\n",
    "\n",
    "plt.xlabel('Menopause Status')\n",
    "plt.ylabel('Count')\n",
    "plt.title('Countplot of Menopause Status in Cancer Dataset')\n",
    "\n",
    "plt.xticks(rotation=45)\n",
    "\n",
    "plt.show()"
   ]
  },
  {
   "cell_type": "code",
   "execution_count": 47,
   "id": "8f6bb090-e1fb-4abc-814d-851dd09f16f7",
   "metadata": {},
   "outputs": [],
   "source": [
    "#The count plot shows that the highest menopause status in the data set is premeno at 220 followed by ge40 at almost 150 with lt40 being signifcatnly \n",
    "#farther behind at around 12"
   ]
  },
  {
   "cell_type": "code",
   "execution_count": 48,
   "id": "d0fcedde-ca47-4ad2-b964-8334e6a00d3c",
   "metadata": {},
   "outputs": [
    {
     "name": "stderr",
     "output_type": "stream",
     "text": [
      "C:\\Users\\jeet\\AppData\\Local\\Temp\\ipykernel_13084\\757409434.py:5: FutureWarning: \n",
      "\n",
      "Passing `palette` without assigning `hue` is deprecated and will be removed in v0.14.0. Assign the `x` variable to `hue` and set `legend=False` for the same effect.\n",
      "\n",
      "  sns.boxplot(x='class', y='deg-malig', data=cancer, palette='Set2')\n"
     ]
    },
    {
     "data": {
      "image/png": "[encoded data removed]",
      "text/plain": [
       "<Figure size 640x480 with 1 Axes>"
      ]
     },
     "metadata": {},
     "output_type": "display_data"
    }
   ],
   "source": [
    "sns.set(style=\"whitegrid\")\n",
    "\n",
    "sns.boxplot(x='class', y='deg-malig', data=cancer, palette='Set2')\n",
    "\n",
    "plt.xlabel('Class (Benign/Malignant)')\n",
    "plt.ylabel('Degree of Malignancy')\n",
    "plt.title('Box Plot of Degree of Malignancy by Class')\n",
    "\n",
    "plt.show()"
   ]
  },
  {
   "cell_type": "code",
   "execution_count": 49,
   "id": "29f60456-50b4-45b2-8f56-097df205a6d6",
   "metadata": {},
   "outputs": [],
   "source": [
    "#We can see from the boxplot that those who experiences recurrence-events end up having a higher maligancy values as seen by the boxplots concentration\n",
    "#as compared to those with no-recurrence-events that have a maligancy value concentrated at the lower values with both ranging from 1-3. "
   ]
  },
  {
   "cell_type": "code",
   "execution_count": 50,
   "id": "833f4cdf-0d66-466d-97fd-97849ed08626",
   "metadata": {},
   "outputs": [
    {
     "name": "stdout",
     "output_type": "stream",
     "text": [
      "   deg-malig  class_recurrence-events  age_40-49  age_50-59  age_60-69  \\\n",
      "0          3                     True      False      False      False   \n",
      "1          2                    False       True      False      False   \n",
      "2          2                     True       True      False      False   \n",
      "3          2                    False      False      False       True   \n",
      "4          2                    False       True      False      False   \n",
      "\n",
      "   age_70-79  menopause_lt40  menopause_premeno  tumor-size_10-14  \\\n",
      "0      False           False               True             False   \n",
      "1      False           False               True             False   \n",
      "2      False           False               True             False   \n",
      "3      False           False              False             False   \n",
      "4      False           False               True             False   \n",
      "\n",
      "   tumor-size_15-19  ...  inv-nodes_3-5  inv-nodes_6-8  inv-nodes_9-11  \\\n",
      "0             False  ...          False          False           False   \n",
      "1             False  ...          False          False           False   \n",
      "2             False  ...          False          False           False   \n",
      "3              True  ...          False          False           False   \n",
      "4             False  ...          False          False           False   \n",
      "\n",
      "   node-caps_yes  breast_right  breast-quad_left_low  breast-quad_left_up  \\\n",
      "0          False         False                  True                False   \n",
      "1          False          True                 False                False   \n",
      "2          False         False                  True                False   \n",
      "3          False          True                 False                 True   \n",
      "4          False          True                 False                False   \n",
      "\n",
      "   breast-quad_right_low  breast-quad_right_up  irradiat_yes  \n",
      "0                  False                 False         False  \n",
      "1                  False                  True         False  \n",
      "2                  False                 False         False  \n",
      "3                  False                 False         False  \n",
      "4                   True                 False         False  \n",
      "\n",
      "[5 rows x 31 columns]\n"
     ]
    }
   ],
   "source": [
    "cancer_encoded = pd.get_dummies(cancer, drop_first=True)\n",
    "print(cancer_encoded.head())"
   ]
  },
  {
   "cell_type": "code",
   "execution_count": 51,
   "id": "63ff36e1-e1bb-42d5-b390-ab321a9fc0e4",
   "metadata": {},
   "outputs": [
    {
     "name": "stdout",
     "output_type": "stream",
     "text": [
      "<class 'pandas.core.frame.DataFrame'>\n",
      "Index: 358 entries, 0 to 385\n",
      "Data columns (total 31 columns):\n",
      " #   Column                   Non-Null Count  Dtype\n",
      "---  ------                   --------------  -----\n",
      " 0   deg-malig                358 non-null    int64\n",
      " 1   class_recurrence-events  358 non-null    bool \n",
      " 2   age_40-49                358 non-null    bool \n",
      " 3   age_50-59                358 non-null    bool \n",
      " 4   age_60-69                358 non-null    bool \n",
      " 5   age_70-79                358 non-null    bool \n",
      " 6   menopause_lt40           358 non-null    bool \n",
      " 7   menopause_premeno        358 non-null    bool \n",
      " 8   tumor-size_10-14         358 non-null    bool \n",
      " 9   tumor-size_15-19         358 non-null    bool \n",
      " 10  tumor-size_20-24         358 non-null    bool \n",
      " 11  tumor-size_25-29         358 non-null    bool \n",
      " 12  tumor-size_30-34         358 non-null    bool \n",
      " 13  tumor-size_35-39         358 non-null    bool \n",
      " 14  tumor-size_40-44         358 non-null    bool \n",
      " 15  tumor-size_45-49         358 non-null    bool \n",
      " 16  tumor-size_5-9           358 non-null    bool \n",
      " 17  tumor-size_50-54         358 non-null    bool \n",
      " 18  inv-nodes_12-14          358 non-null    bool \n",
      " 19  inv-nodes_15-17          358 non-null    bool \n",
      " 20  inv-nodes_24-26          358 non-null    bool \n",
      " 21  inv-nodes_3-5            358 non-null    bool \n",
      " 22  inv-nodes_6-8            358 non-null    bool \n",
      " 23  inv-nodes_9-11           358 non-null    bool \n",
      " 24  node-caps_yes            358 non-null    bool \n",
      " 25  breast_right             358 non-null    bool \n",
      " 26  breast-quad_left_low     358 non-null    bool \n",
      " 27  breast-quad_left_up      358 non-null    bool \n",
      " 28  breast-quad_right_low    358 non-null    bool \n",
      " 29  breast-quad_right_up     358 non-null    bool \n",
      " 30  irradiat_yes             358 non-null    bool \n",
      "dtypes: bool(30), int64(1)\n",
      "memory usage: 16.1 KB\n"
     ]
    }
   ],
   "source": [
    "cancer_encoded.info()"
   ]
  },
  {
   "cell_type": "code",
   "execution_count": 52,
   "id": "63b436f9-dee7-44d2-aefb-a7c8a40a805e",
   "metadata": {},
   "outputs": [],
   "source": [
    "X = cancer_encoded.drop('class_recurrence-events', axis=1)\n",
    "y = cancer_encoded['class_recurrence-events'] "
   ]
  },
  {
   "cell_type": "code",
   "execution_count": 53,
   "id": "553eca9d-9747-4283-830c-3c3aa379afd7",
   "metadata": {},
   "outputs": [],
   "source": [
    "from sklearn.model_selection import train_test_split\n",
    "\n",
    "X_train, X_test, y_train, y_test = train_test_split(X, y, test_size=0.3, random_state=0)"
   ]
  },
  {
   "cell_type": "code",
   "execution_count": 54,
   "id": "ac8fbf85-cead-4863-bbf0-0e9857754f63",
   "metadata": {},
   "outputs": [
    {
     "data": {
      "text/html": [
       "<style>#sk-container-id-1 {\n",
       "  /* Definition of color scheme common for light and dark mode */\n",
       "  --sklearn-color-text: black;\n",
       "  --sklearn-color-line: gray;\n",
       "  /* Definition of color scheme for unfitted estimators */\n",
       "  --sklearn-color-unfitted-level-0: #fff5e6;\n",
       "  --sklearn-color-unfitted-level-1: #f6e4d2;\n",
       "  --sklearn-color-unfitted-level-2: #ffe0b3;\n",
       "  --sklearn-color-unfitted-level-3: chocolate;\n",
       "  /* Definition of color scheme for fitted estimators */\n",
       "  --sklearn-color-fitted-level-0: #f0f8ff;\n",
       "  --sklearn-color-fitted-level-1: #d4ebff;\n",
       "  --sklearn-color-fitted-level-2: #b3dbfd;\n",
       "  --sklearn-color-fitted-level-3: cornflowerblue;\n",
       "\n",
       "  /* Specific color for light theme */\n",
       "  --sklearn-color-text-on-default-background: var(--sg-text-color, var(--theme-code-foreground, var(--jp-content-font-color1, black)));\n",
       "  --sklearn-color-background: var(--sg-background-color, var(--theme-background, var(--jp-layout-color0, white)));\n",
       "  --sklearn-color-border-box: var(--sg-text-color, var(--theme-code-foreground, var(--jp-content-font-color1, black)));\n",
       "  --sklearn-color-icon: #696969;\n",
       "\n",
       "  @media (prefers-color-scheme: dark) {\n",
       "    /* Redefinition of color scheme for dark theme */\n",
       "    --sklearn-color-text-on-default-background: var(--sg-text-color, var(--theme-code-foreground, var(--jp-content-font-color1, white)));\n",
       "    --sklearn-color-background: var(--sg-background-color, var(--theme-background, var(--jp-layout-color0, #111)));\n",
       "    --sklearn-color-border-box: var(--sg-text-color, var(--theme-code-foreground, var(--jp-content-font-color1, white)));\n",
       "    --sklearn-color-icon: #878787;\n",
       "  }\n",
       "}\n",
       "\n",
       "#sk-container-id-1 {\n",
       "  color: var(--sklearn-color-text);\n",
       "}\n",
       "\n",
       "#sk-container-id-1 pre {\n",
       "  padding: 0;\n",
       "}\n",
       "\n",
       "#sk-container-id-1 input.sk-hidden--visually {\n",
       "  border: 0;\n",
       "  clip: rect(1px 1px 1px 1px);\n",
       "  clip: rect(1px, 1px, 1px, 1px);\n",
       "  height: 1px;\n",
       "  margin: -1px;\n",
       "  overflow: hidden;\n",
       "  padding: 0;\n",
       "  position: absolute;\n",
       "  width: 1px;\n",
       "}\n",
       "\n",
       "#sk-container-id-1 div.sk-dashed-wrapped {\n",
       "  border: 1px dashed var(--sklearn-color-line);\n",
       "  margin: 0 0.4em 0.5em 0.4em;\n",
       "  box-sizing: border-box;\n",
       "  padding-bottom: 0.4em;\n",
       "  background-color: var(--sklearn-color-background);\n",
       "}\n",
       "\n",
       "#sk-container-id-1 div.sk-container {\n",
       "  /* jupyter's `normalize.less` sets `[hidden] { display: none; }`\n",
       "     but bootstrap.min.css set `[hidden] { display: none !important; }`\n",
       "     so we also need the `!important` here to be able to override the\n",
       "     default hidden behavior on the sphinx rendered scikit-learn.org.\n",
       "     See: https://github.com/scikit-learn/scikit-learn/issues/21755 */\n",
       "  display: inline-block !important;\n",
       "  position: relative;\n",
       "}\n",
       "\n",
       "#sk-container-id-1 div.sk-text-repr-fallback {\n",
       "  display: none;\n",
       "}\n",
       "\n",
       "div.sk-parallel-item,\n",
       "div.sk-serial,\n",
       "div.sk-item {\n",
       "  /* draw centered vertical line to link estimators */\n",
       "  background-image: linear-gradient(var(--sklearn-color-text-on-default-background), var(--sklearn-color-text-on-default-background));\n",
       "  background-size: 2px 100%;\n",
       "  background-repeat: no-repeat;\n",
       "  background-position: center center;\n",
       "}\n",
       "\n",
       "/* Parallel-specific style estimator block */\n",
       "\n",
       "#sk-container-id-1 div.sk-parallel-item::after {\n",
       "  content: \"\";\n",
       "  width: 100%;\n",
       "  border-bottom: 2px solid var(--sklearn-color-text-on-default-background);\n",
       "  flex-grow: 1;\n",
       "}\n",
       "\n",
       "#sk-container-id-1 div.sk-parallel {\n",
       "  display: flex;\n",
       "  align-items: stretch;\n",
       "  justify-content: center;\n",
       "  background-color: var(--sklearn-color-background);\n",
       "  position: relative;\n",
       "}\n",
       "\n",
       "#sk-container-id-1 div.sk-parallel-item {\n",
       "  display: flex;\n",
       "  flex-direction: column;\n",
       "}\n",
       "\n",
       "#sk-container-id-1 div.sk-parallel-item:first-child::after {\n",
       "  align-self: flex-end;\n",
       "  width: 50%;\n",
       "}\n",
       "\n",
       "#sk-container-id-1 div.sk-parallel-item:last-child::after {\n",
       "  align-self: flex-start;\n",
       "  width: 50%;\n",
       "}\n",
       "\n",
       "#sk-container-id-1 div.sk-parallel-item:only-child::after {\n",
       "  width: 0;\n",
       "}\n",
       "\n",
       "/* Serial-specific style estimator block */\n",
       "\n",
       "#sk-container-id-1 div.sk-serial {\n",
       "  display: flex;\n",
       "  flex-direction: column;\n",
       "  align-items: center;\n",
       "  background-color: var(--sklearn-color-background);\n",
       "  padding-right: 1em;\n",
       "  padding-left: 1em;\n",
       "}\n",
       "\n",
       "\n",
       "/* Toggleable style: style used for estimator/Pipeline/ColumnTransformer box that is\n",
       "clickable and can be expanded/collapsed.\n",
       "- Pipeline and ColumnTransformer use this feature and define the default style\n",
       "- Estimators will overwrite some part of the style using the `sk-estimator` class\n",
       "*/\n",
       "\n",
       "/* Pipeline and ColumnTransformer style (default) */\n",
       "\n",
       "#sk-container-id-1 div.sk-toggleable {\n",
       "  /* Default theme specific background. It is overwritten whether we have a\n",
       "  specific estimator or a Pipeline/ColumnTransformer */\n",
       "  background-color: var(--sklearn-color-background);\n",
       "}\n",
       "\n",
       "/* Toggleable label */\n",
       "#sk-container-id-1 label.sk-toggleable__label {\n",
       "  cursor: pointer;\n",
       "  display: block;\n",
       "  width: 100%;\n",
       "  margin-bottom: 0;\n",
       "  padding: 0.5em;\n",
       "  box-sizing: border-box;\n",
       "  text-align: center;\n",
       "}\n",
       "\n",
       "#sk-container-id-1 label.sk-toggleable__label-arrow:before {\n",
       "  /* Arrow on the left of the label */\n",
       "  content: \"▸\";\n",
       "  float: left;\n",
       "  margin-right: 0.25em;\n",
       "  color: var(--sklearn-color-icon);\n",
       "}\n",
       "\n",
       "#sk-container-id-1 label.sk-toggleable__label-arrow:hover:before {\n",
       "  color: var(--sklearn-color-text);\n",
       "}\n",
       "\n",
       "/* Toggleable content - dropdown */\n",
       "\n",
       "#sk-container-id-1 div.sk-toggleable__content {\n",
       "  max-height: 0;\n",
       "  max-width: 0;\n",
       "  overflow: hidden;\n",
       "  text-align: left;\n",
       "  /* unfitted */\n",
       "  background-color: var(--sklearn-color-unfitted-level-0);\n",
       "}\n",
       "\n",
       "#sk-container-id-1 div.sk-toggleable__content.fitted {\n",
       "  /* fitted */\n",
       "  background-color: var(--sklearn-color-fitted-level-0);\n",
       "}\n",
       "\n",
       "#sk-container-id-1 div.sk-toggleable__content pre {\n",
       "  margin: 0.2em;\n",
       "  border-radius: 0.25em;\n",
       "  color: var(--sklearn-color-text);\n",
       "  /* unfitted */\n",
       "  background-color: var(--sklearn-color-unfitted-level-0);\n",
       "}\n",
       "\n",
       "#sk-container-id-1 div.sk-toggleable__content.fitted pre {\n",
       "  /* unfitted */\n",
       "  background-color: var(--sklearn-color-fitted-level-0);\n",
       "}\n",
       "\n",
       "#sk-container-id-1 input.sk-toggleable__control:checked~div.sk-toggleable__content {\n",
       "  /* Expand drop-down */\n",
       "  max-height: 200px;\n",
       "  max-width: 100%;\n",
       "  overflow: auto;\n",
       "}\n",
       "\n",
       "#sk-container-id-1 input.sk-toggleable__control:checked~label.sk-toggleable__label-arrow:before {\n",
       "  content: \"▾\";\n",
       "}\n",
       "\n",
       "/* Pipeline/ColumnTransformer-specific style */\n",
       "\n",
       "#sk-container-id-1 div.sk-label input.sk-toggleable__control:checked~label.sk-toggleable__label {\n",
       "  color: var(--sklearn-color-text);\n",
       "  background-color: var(--sklearn-color-unfitted-level-2);\n",
       "}\n",
       "\n",
       "#sk-container-id-1 div.sk-label.fitted input.sk-toggleable__control:checked~label.sk-toggleable__label {\n",
       "  background-color: var(--sklearn-color-fitted-level-2);\n",
       "}\n",
       "\n",
       "/* Estimator-specific style */\n",
       "\n",
       "/* Colorize estimator box */\n",
       "#sk-container-id-1 div.sk-estimator input.sk-toggleable__control:checked~label.sk-toggleable__label {\n",
       "  /* unfitted */\n",
       "  background-color: var(--sklearn-color-unfitted-level-2);\n",
       "}\n",
       "\n",
       "#sk-container-id-1 div.sk-estimator.fitted input.sk-toggleable__control:checked~label.sk-toggleable__label {\n",
       "  /* fitted */\n",
       "  background-color: var(--sklearn-color-fitted-level-2);\n",
       "}\n",
       "\n",
       "#sk-container-id-1 div.sk-label label.sk-toggleable__label,\n",
       "#sk-container-id-1 div.sk-label label {\n",
       "  /* The background is the default theme color */\n",
       "  color: var(--sklearn-color-text-on-default-background);\n",
       "}\n",
       "\n",
       "/* On hover, darken the color of the background */\n",
       "#sk-container-id-1 div.sk-label:hover label.sk-toggleable__label {\n",
       "  color: var(--sklearn-color-text);\n",
       "  background-color: var(--sklearn-color-unfitted-level-2);\n",
       "}\n",
       "\n",
       "/* Label box, darken color on hover, fitted */\n",
       "#sk-container-id-1 div.sk-label.fitted:hover label.sk-toggleable__label.fitted {\n",
       "  color: var(--sklearn-color-text);\n",
       "  background-color: var(--sklearn-color-fitted-level-2);\n",
       "}\n",
       "\n",
       "/* Estimator label */\n",
       "\n",
       "#sk-container-id-1 div.sk-label label {\n",
       "  font-family: monospace;\n",
       "  font-weight: bold;\n",
       "  display: inline-block;\n",
       "  line-height: 1.2em;\n",
       "}\n",
       "\n",
       "#sk-container-id-1 div.sk-label-container {\n",
       "  text-align: center;\n",
       "}\n",
       "\n",
       "/* Estimator-specific */\n",
       "#sk-container-id-1 div.sk-estimator {\n",
       "  font-family: monospace;\n",
       "  border: 1px dotted var(--sklearn-color-border-box);\n",
       "  border-radius: 0.25em;\n",
       "  box-sizing: border-box;\n",
       "  margin-bottom: 0.5em;\n",
       "  /* unfitted */\n",
       "  background-color: var(--sklearn-color-unfitted-level-0);\n",
       "}\n",
       "\n",
       "#sk-container-id-1 div.sk-estimator.fitted {\n",
       "  /* fitted */\n",
       "  background-color: var(--sklearn-color-fitted-level-0);\n",
       "}\n",
       "\n",
       "/* on hover */\n",
       "#sk-container-id-1 div.sk-estimator:hover {\n",
       "  /* unfitted */\n",
       "  background-color: var(--sklearn-color-unfitted-level-2);\n",
       "}\n",
       "\n",
       "#sk-container-id-1 div.sk-estimator.fitted:hover {\n",
       "  /* fitted */\n",
       "  background-color: var(--sklearn-color-fitted-level-2);\n",
       "}\n",
       "\n",
       "/* Specification for estimator info (e.g. \"i\" and \"?\") */\n",
       "\n",
       "/* Common style for \"i\" and \"?\" */\n",
       "\n",
       ".sk-estimator-doc-link,\n",
       "a:link.sk-estimator-doc-link,\n",
       "a:visited.sk-estimator-doc-link {\n",
       "  float: right;\n",
       "  font-size: smaller;\n",
       "  line-height: 1em;\n",
       "  font-family: monospace;\n",
       "  background-color: var(--sklearn-color-background);\n",
       "  border-radius: 1em;\n",
       "  height: 1em;\n",
       "  width: 1em;\n",
       "  text-decoration: none !important;\n",
       "  margin-left: 1ex;\n",
       "  /* unfitted */\n",
       "  border: var(--sklearn-color-unfitted-level-1) 1pt solid;\n",
       "  color: var(--sklearn-color-unfitted-level-1);\n",
       "}\n",
       "\n",
       ".sk-estimator-doc-link.fitted,\n",
       "a:link.sk-estimator-doc-link.fitted,\n",
       "a:visited.sk-estimator-doc-link.fitted {\n",
       "  /* fitted */\n",
       "  border: var(--sklearn-color-fitted-level-1) 1pt solid;\n",
       "  color: var(--sklearn-color-fitted-level-1);\n",
       "}\n",
       "\n",
       "/* On hover */\n",
       "div.sk-estimator:hover .sk-estimator-doc-link:hover,\n",
       ".sk-estimator-doc-link:hover,\n",
       "div.sk-label-container:hover .sk-estimator-doc-link:hover,\n",
       ".sk-estimator-doc-link:hover {\n",
       "  /* unfitted */\n",
       "  background-color: var(--sklearn-color-unfitted-level-3);\n",
       "  color: var(--sklearn-color-background);\n",
       "  text-decoration: none;\n",
       "}\n",
       "\n",
       "div.sk-estimator.fitted:hover .sk-estimator-doc-link.fitted:hover,\n",
       ".sk-estimator-doc-link.fitted:hover,\n",
       "div.sk-label-container:hover .sk-estimator-doc-link.fitted:hover,\n",
       ".sk-estimator-doc-link.fitted:hover {\n",
       "  /* fitted */\n",
       "  background-color: var(--sklearn-color-fitted-level-3);\n",
       "  color: var(--sklearn-color-background);\n",
       "  text-decoration: none;\n",
       "}\n",
       "\n",
       "/* Span, style for the box shown on hovering the info icon */\n",
       ".sk-estimator-doc-link span {\n",
       "  display: none;\n",
       "  z-index: 9999;\n",
       "  position: relative;\n",
       "  font-weight: normal;\n",
       "  right: .2ex;\n",
       "  padding: .5ex;\n",
       "  margin: .5ex;\n",
       "  width: min-content;\n",
       "  min-width: 20ex;\n",
       "  max-width: 50ex;\n",
       "  color: var(--sklearn-color-text);\n",
       "  box-shadow: 2pt 2pt 4pt #999;\n",
       "  /* unfitted */\n",
       "  background: var(--sklearn-color-unfitted-level-0);\n",
       "  border: .5pt solid var(--sklearn-color-unfitted-level-3);\n",
       "}\n",
       "\n",
       ".sk-estimator-doc-link.fitted span {\n",
       "  /* fitted */\n",
       "  background: var(--sklearn-color-fitted-level-0);\n",
       "  border: var(--sklearn-color-fitted-level-3);\n",
       "}\n",
       "\n",
       ".sk-estimator-doc-link:hover span {\n",
       "  display: block;\n",
       "}\n",
       "\n",
       "/* \"?\"-specific style due to the `<a>` HTML tag */\n",
       "\n",
       "#sk-container-id-1 a.estimator_doc_link {\n",
       "  float: right;\n",
       "  font-size: 1rem;\n",
       "  line-height: 1em;\n",
       "  font-family: monospace;\n",
       "  background-color: var(--sklearn-color-background);\n",
       "  border-radius: 1rem;\n",
       "  height: 1rem;\n",
       "  width: 1rem;\n",
       "  text-decoration: none;\n",
       "  /* unfitted */\n",
       "  color: var(--sklearn-color-unfitted-level-1);\n",
       "  border: var(--sklearn-color-unfitted-level-1) 1pt solid;\n",
       "}\n",
       "\n",
       "#sk-container-id-1 a.estimator_doc_link.fitted {\n",
       "  /* fitted */\n",
       "  border: var(--sklearn-color-fitted-level-1) 1pt solid;\n",
       "  color: var(--sklearn-color-fitted-level-1);\n",
       "}\n",
       "\n",
       "/* On hover */\n",
       "#sk-container-id-1 a.estimator_doc_link:hover {\n",
       "  /* unfitted */\n",
       "  background-color: var(--sklearn-color-unfitted-level-3);\n",
       "  color: var(--sklearn-color-background);\n",
       "  text-decoration: none;\n",
       "}\n",
       "\n",
       "#sk-container-id-1 a.estimator_doc_link.fitted:hover {\n",
       "  /* fitted */\n",
       "  background-color: var(--sklearn-color-fitted-level-3);\n",
       "}\n",
       "</style><div id=\"sk-container-id-1\" class=\"sk-top-container\"><div class=\"sk-text-repr-fallback\"><pre>KNeighborsClassifier()</pre><b>In a Jupyter environment, please rerun this cell to show the HTML representation or trust the notebook. <br />On GitHub, the HTML representation is unable to render, please try loading this page with nbviewer.org.</b></div><div class=\"sk-container\" hidden><div class=\"sk-item\"><div class=\"sk-estimator fitted sk-toggleable\"><input class=\"sk-toggleable__control sk-hidden--visually\" id=\"sk-estimator-id-1\" type=\"checkbox\" checked><label for=\"sk-estimator-id-1\" class=\"sk-toggleable__label fitted sk-toggleable__label-arrow fitted\">&nbsp;&nbsp;KNeighborsClassifier<a class=\"sk-estimator-doc-link fitted\" rel=\"noreferrer\" target=\"_blank\" href=\"https://scikit-learn.org/1.4/modules/generated/sklearn.neighbors.KNeighborsClassifier.html\">?<span>Documentation for KNeighborsClassifier</span></a><span class=\"sk-estimator-doc-link fitted\">i<span>Fitted</span></span></label><div class=\"sk-toggleable__content fitted\"><pre>KNeighborsClassifier()</pre></div> </div></div></div></div>"
      ],
      "text/plain": [
       "KNeighborsClassifier()"
      ]
     },
     "execution_count": 54,
     "metadata": {},
     "output_type": "execute_result"
    }
   ],
   "source": [
    "from sklearn.neighbors import KNeighborsClassifier\n",
    "\n",
    "knn = KNeighborsClassifier(n_neighbors=5)\n",
    "knn.fit(X_train, y_train)"
   ]
  },
  {
   "cell_type": "code",
   "execution_count": 55,
   "id": "894d6341-44f9-4af6-a334-828d675438fb",
   "metadata": {},
   "outputs": [
    {
     "name": "stdout",
     "output_type": "stream",
     "text": [
      "Performance on TEST\n",
      "*******************\n",
      "              precision    recall  f1-score   support\n",
      "\n",
      "       False       0.71      0.88      0.78        74\n",
      "        True       0.44      0.21      0.28        34\n",
      "\n",
      "    accuracy                           0.67       108\n",
      "   macro avg       0.57      0.54      0.53       108\n",
      "weighted avg       0.62      0.67      0.62       108\n",
      "\n",
      "Performance on TRAIN\n",
      "********************\n",
      "              precision    recall  f1-score   support\n",
      "\n",
      "       False       0.76      0.91      0.82       169\n",
      "        True       0.67      0.40      0.50        81\n",
      "\n",
      "    accuracy                           0.74       250\n",
      "   macro avg       0.71      0.65      0.66       250\n",
      "weighted avg       0.73      0.74      0.72       250\n",
      "\n"
     ]
    }
   ],
   "source": [
    "from sklearn.metrics import accuracy_score, classification_report\n",
    "\n",
    "print(f\"Performance on TEST\\n*******************\\n{classification_report(y_test, knn.predict(X_test))}\")\n",
    "\n",
    "print(f\"Performance on TRAIN\\n********************\\n{classification_report(y_train, knn.predict(X_train))}\")"
   ]
  },
  {
   "cell_type": "code",
   "execution_count": 56,
   "id": "92298c29-3192-4284-a164-41fc11210ba5",
   "metadata": {},
   "outputs": [
    {
     "name": "stdout",
     "output_type": "stream",
     "text": [
      "Best k: 3\n",
      "Best cross-validation accuracy: 0.32\n",
      "Performance on TEST\n",
      "*******************\n",
      "              precision    recall  f1-score   support\n",
      "\n",
      "       False       0.72      0.85      0.78        74\n",
      "        True       0.48      0.29      0.36        34\n",
      "\n",
      "    accuracy                           0.68       108\n",
      "   macro avg       0.60      0.57      0.57       108\n",
      "weighted avg       0.65      0.68      0.65       108\n",
      "\n",
      "Performance on TRAIN\n",
      "********************\n",
      "              precision    recall  f1-score   support\n",
      "\n",
      "       False       0.79      0.89      0.84       169\n",
      "        True       0.70      0.52      0.60        81\n",
      "\n",
      "    accuracy                           0.77       250\n",
      "   macro avg       0.75      0.71      0.72       250\n",
      "weighted avg       0.76      0.77      0.76       250\n",
      "\n"
     ]
    }
   ],
   "source": [
    "from sklearn.model_selection import GridSearchCV\n",
    "\n",
    "param_grid = {\"n_neighbors\": np.arange(1, 100)}\n",
    "\n",
    "knn = KNeighborsClassifier()\n",
    "\n",
    "grid_search = GridSearchCV(knn, param_grid, cv=5, scoring='recall')\n",
    "grid_search.fit(X_train, y_train)\n",
    "\n",
    "print(f\"Best k: {grid_search.best_params_['n_neighbors']}\")\n",
    "print(f\"Best cross-validation accuracy: {grid_search.best_score_:.2f}\")\n",
    "\n",
    "best_knn = grid_search.best_estimator_\n",
    "\n",
    "print(f\"Performance on TEST\\n*******************\\n{classification_report(y_test, best_knn.predict(X_test))}\")\n",
    "\n",
    "print(f\"Performance on TRAIN\\n********************\\n{classification_report(y_train, best_knn.predict(X_train))}\")"
   ]
  },
  {
   "cell_type": "code",
   "execution_count": 57,
   "id": "184fe192-13db-4e08-b336-b0ba9d64df0d",
   "metadata": {},
   "outputs": [
    {
     "name": "stdout",
     "output_type": "stream",
     "text": [
      "Performance on TEST\n",
      "*******************\n",
      "              precision    recall  f1-score   support\n",
      "\n",
      "       False       0.69      1.00      0.81        74\n",
      "        True       0.00      0.00      0.00        34\n",
      "\n",
      "    accuracy                           0.69       108\n",
      "   macro avg       0.34      0.50      0.41       108\n",
      "weighted avg       0.47      0.69      0.56       108\n",
      "\n",
      "Performance on TRAIN\n",
      "********************\n",
      "              precision    recall  f1-score   support\n",
      "\n",
      "       False       0.68      1.00      0.81       169\n",
      "        True       1.00      0.04      0.07        81\n",
      "\n",
      "    accuracy                           0.69       250\n",
      "   macro avg       0.84      0.52      0.44       250\n",
      "weighted avg       0.79      0.69      0.57       250\n",
      "\n"
     ]
    },
    {
     "name": "stderr",
     "output_type": "stream",
     "text": [
      "C:\\Users\\jeet\\anaconda3\\Lib\\site-packages\\sklearn\\metrics\\_classification.py:1509: UndefinedMetricWarning: Precision is ill-defined and being set to 0.0 in labels with no predicted samples. Use `zero_division` parameter to control this behavior.\n",
      "  _warn_prf(average, modifier, f\"{metric.capitalize()} is\", len(result))\n",
      "C:\\Users\\jeet\\anaconda3\\Lib\\site-packages\\sklearn\\metrics\\_classification.py:1509: UndefinedMetricWarning: Precision is ill-defined and being set to 0.0 in labels with no predicted samples. Use `zero_division` parameter to control this behavior.\n",
      "  _warn_prf(average, modifier, f\"{metric.capitalize()} is\", len(result))\n",
      "C:\\Users\\jeet\\anaconda3\\Lib\\site-packages\\sklearn\\metrics\\_classification.py:1509: UndefinedMetricWarning: Precision is ill-defined and being set to 0.0 in labels with no predicted samples. Use `zero_division` parameter to control this behavior.\n",
      "  _warn_prf(average, modifier, f\"{metric.capitalize()} is\", len(result))\n"
     ]
    }
   ],
   "source": [
    "from sklearn.linear_model import SGDClassifier\n",
    "\n",
    "clf = SGDClassifier(loss=\"perceptron\", alpha=0.01, random_state=0)\n",
    "\n",
    "clf.fit(X_train, y_train)\n",
    "\n",
    "print(f\"Performance on TEST\\n*******************\\n{classification_report(y_test, clf.predict(X_test))}\")\n",
    "\n",
    "print(f\"Performance on TRAIN\\n********************\\n{classification_report(y_train, clf.predict(X_train))}\")"
   ]
  },
  {
   "cell_type": "code",
   "execution_count": null,
   "id": "1b3fbd70-5877-4afb-abd0-de1a0a13a5c7",
   "metadata": {},
   "outputs": [],
   "source": [
    "#The most important metric is the true recall as it minimizes false negatives. If we have a large amount of false negatives than people who are at risk\n",
    "#of recurrence will be told they won't have one when they are likely to which should be minimized."
   ]
  }
 ],
 "metadata": {
  "kernelspec": {
   "display_name": "Python 3 (ipykernel)",
   "language": "python",
   "name": "python3"
  },
  "language_info": {
   "codemirror_mode": {
    "name": "ipython",
    "version": 3
   },
   "file_extension": ".py",
   "mimetype": "text/x-python",
   "name": "python",
   "nbconvert_exporter": "python",
   "pygments_lexer": "ipython3",
   "version": "3.12.4"
  }
 },
 "nbformat": 4,
 "nbformat_minor": 5
}
